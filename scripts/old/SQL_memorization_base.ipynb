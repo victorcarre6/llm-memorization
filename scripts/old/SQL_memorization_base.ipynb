{
 "cells": [
  {
   "cell_type": "code",
   "execution_count": 7,
   "id": "85ac9dd5",
   "metadata": {},
   "outputs": [
    {
     "name": "stderr",
     "output_type": "stream",
     "text": [
      "[nltk_data] Downloading package punkt to\n",
      "[nltk_data]     /Users/victorcarre/nltk_data...\n",
      "[nltk_data]   Package punkt is already up-to-date!\n"
     ]
    }
   ],
   "source": [
    "# Imports de base\n",
    "import os\n",
    "import sqlite3\n",
    "from sqlalchemy import create_engine\n",
    "from datetime import datetime\n",
    "import sklearn\n",
    "from sklearn.feature_extraction.text import ENGLISH_STOP_WORDS\n",
    "import re\n",
    "import nltk\n",
    "import json\n",
    "from keybert import KeyBERT\n",
    "\n",
    "# Chargement de la configuration\n",
    "PROJECT_ROOT = os.path.abspath(os.path.join(os.getcwd(), \"..\"))\n",
    "with open(os.path.join(PROJECT_ROOT, \"config.json\")) as f:\n",
    "    raw_config = json.load(f)\n",
    "\n",
    "config = {\n",
    "    key: os.path.normpath(os.path.join(PROJECT_ROOT, value)) if isinstance(value, str) else value\n",
    "    for key, value in raw_config.items()\n",
    "}\n",
    "\n",
    "nltk.download('punkt')\n",
    "\n",
    "# Initialisation\n",
    "db_path = config[\"db_path\"]\n",
    "conn = sqlite3.connect(db_path)\n",
    "cur = conn.cursor()\n",
    "\n",
    "# Pour usage SQLAlchemy plus tard\n",
    "engine = create_engine(f'sqlite:///{db_path}')\n",
    "\n",
    "# Initialisation KeyBERT\n",
    "kw_model = KeyBERT()\n"
   ]
  },
  {
   "cell_type": "code",
   "execution_count": 8,
   "id": "31005ae2",
   "metadata": {},
   "outputs": [],
   "source": [
    "# Création des tables\n",
    "cur.execute('''\n",
    "    CREATE TABLE IF NOT EXISTS conversations (\n",
    "        id INTEGER PRIMARY KEY AUTOINCREMENT,\n",
    "        user_input TEXT,\n",
    "        llm_output TEXT,\n",
    "        timestamp DATETIME DEFAULT CURRENT_TIMESTAMP\n",
    "    )\n",
    "''')\n",
    "\n",
    "cur.execute('''\n",
    "    CREATE TABLE IF NOT EXISTS keywords (\n",
    "        id INTEGER PRIMARY KEY AUTOINCREMENT,\n",
    "        conversation_id INTEGER,\n",
    "        keyword TEXT,\n",
    "        FOREIGN KEY(conversation_id) REFERENCES conversations(id)\n",
    "    )\n",
    "''')\n",
    "\n",
    "conn.commit()\n"
   ]
  },
  {
   "cell_type": "code",
   "execution_count": 9,
   "id": "374e0ede",
   "metadata": {},
   "outputs": [],
   "source": [
    "def insert_conversation(user_input, llm_output):\n",
    "    \"\"\"\n",
    "    Insère une nouvelle conversation + mots-clés associés dans la base de données.\n",
    "    \"\"\"\n",
    "    combined_text = user_input + \" \" + llm_output\n",
    "    keywords = extract_keywords(combined_text)\n",
    "\n",
    "    cur.execute(\"INSERT INTO conversations (user_input, llm_output) VALUES (?, ?)\", (user_input, llm_output))\n",
    "    conversation_id = cur.lastrowid\n",
    "\n",
    "    for kw in keywords:\n",
    "        cur.execute(\"INSERT INTO keywords (conversation_id, keyword) VALUES (?, ?)\", (conversation_id, kw))\n",
    "    \n",
    "    conn.commit()\n"
   ]
  },
  {
   "cell_type": "code",
   "execution_count": 11,
   "id": "4d38af67",
   "metadata": {},
   "outputs": [],
   "source": [
    "def extract_keywords(text, top_n=10):\n",
    "    \"\"\"\n",
    "    Utilise KeyBERT pour extraire des mots-clés pertinents.\n",
    "    \"\"\"\n",
    "    keywords = kw_model.extract_keywords(text, keyphrase_ngram_range=(1, 2), stop_words='english', top_n=top_n)\n",
    "    return [kw for kw, _ in keywords]\n",
    "\n",
    "    # Nettoyage : suppression des doublons et des stop words restants\n",
    "    unique_keywords = []\n",
    "    seen = set()\n",
    "    for kw, _ in keywords:\n",
    "        kw_clean = kw.lower().strip()\n",
    "        # Filtrage des mots très courts, déjà vus, ou présents dans les stopwords\n",
    "        if (\n",
    "            kw_clean not in seen and\n",
    "            kw_clean not in ENGLISH_STOP_WORDS and\n",
    "            len(kw_clean) > 2 and  # facultatif : éviter les mots très courts\n",
    "            re.match(r'^[a-zA-Z\\-]+$', kw_clean)\n",
    "        ):\n",
    "            seen.add(kw_clean)\n",
    "            unique_keywords.append(kw_clean)\n",
    "        if len(unique_keywords) >= top_n:\n",
    "            break\n",
    "\n",
    "    return unique_keywords\n",
    "\n",
    "def insert_conversation(user_input, llm_output):\n",
    "    \"\"\"\n",
    "    Insère une conversation dans la base et ses mots-clés associés.\n",
    "    \"\"\"\n",
    "    combined_text = f\"{user_input} {llm_output}\"\n",
    "    keywords = extract_keywords(combined_text)\n",
    "\n",
    "    cur.execute(\n",
    "        \"INSERT INTO conversations (user_input, llm_output) VALUES (?, ?)\",\n",
    "        (user_input, llm_output)\n",
    "    )\n",
    "    conversation_id = cur.lastrowid\n",
    "\n",
    "    for kw in keywords:\n",
    "        cur.execute(\n",
    "            \"INSERT INTO keywords (conversation_id, keyword) VALUES (?, ?)\",\n",
    "            (conversation_id, kw)\n",
    "        )\n",
    "    conn.commit()\n"
   ]
  },
  {
   "cell_type": "code",
   "execution_count": 5,
   "id": "db9ea04c",
   "metadata": {},
   "outputs": [],
   "source": [
    "def search_conversations_by_keyword(search_term):\n",
    "    \"\"\"\n",
    "    Recherche toutes les conversations associées à un mot-clé donné.\n",
    "    \"\"\"\n",
    "    cur.execute('''\n",
    "        SELECT c.user_input, c.llm_output, c.timestamp\n",
    "        FROM conversations c\n",
    "        JOIN keywords k ON c.id = k.conversation_id\n",
    "        WHERE k.keyword LIKE ?\n",
    "        ORDER BY c.timestamp DESC\n",
    "    ''', (f'%{search_term}%',))\n",
    "\n",
    "    return cur.fetchall()\n"
   ]
  },
  {
   "cell_type": "code",
   "execution_count": 12,
   "id": "c5ff9cfc",
   "metadata": {},
   "outputs": [
    {
     "ename": "NameError",
     "evalue": "name 'search_conversations_by_keyword' is not defined",
     "output_type": "error",
     "traceback": [
      "\u001b[31m---------------------------------------------------------------------------\u001b[39m",
      "\u001b[31mNameError\u001b[39m                                 Traceback (most recent call last)",
      "\u001b[36mCell\u001b[39m\u001b[36m \u001b[39m\u001b[32mIn[12]\u001b[39m\u001b[32m, line 8\u001b[39m\n\u001b[32m      5\u001b[39m insert_conversation(user_input, llm_output)\n\u001b[32m      7\u001b[39m \u001b[38;5;66;03m# Recherche\u001b[39;00m\n\u001b[32m----> \u001b[39m\u001b[32m8\u001b[39m results = \u001b[43msearch_conversations_by_keyword\u001b[49m(\u001b[33m\"\u001b[39m\u001b[33msolaire\u001b[39m\u001b[33m\"\u001b[39m)\n\u001b[32m      9\u001b[39m \u001b[38;5;28;01mfor\u001b[39;00m r \u001b[38;5;129;01min\u001b[39;00m results:\n\u001b[32m     10\u001b[39m     \u001b[38;5;28mprint\u001b[39m(\u001b[33m\"\u001b[39m\u001b[33mQ:\u001b[39m\u001b[33m\"\u001b[39m, r[\u001b[32m0\u001b[39m])\n",
      "\u001b[31mNameError\u001b[39m: name 'search_conversations_by_keyword' is not defined"
     ]
    }
   ],
   "source": [
    "# Exemple : insertion\n",
    "user_input = \"Comment fonctionnent les panneaux solaires ?\"\n",
    "llm_output = \"Les panneaux solaires transforment la lumière en électricité via l'effet photovoltaïque.\"\n",
    "\n",
    "insert_conversation(user_input, llm_output)\n",
    "\n",
    "# Recherche\n",
    "results = search_conversations_by_keyword(\"solaire\")\n",
    "for r in results:\n",
    "    print(\"Q:\", r[0])\n",
    "    print(\"A:\", r[1])\n",
    "    print(\"⏱️\", r[2])\n",
    "    print(\"-\" * 50)\n"
   ]
  },
  {
   "cell_type": "code",
   "execution_count": 14,
   "id": "2576e09a",
   "metadata": {},
   "outputs": [
    {
     "ename": "DatabaseError",
     "evalue": "Execution failed on sql '\nSELECT c.id, c.timestamp, c.user_input, c.llm_output, GROUP_CONCAT(k.keyword, ', ') AS keywords\nFROM conversations c\nLEFT JOIN keywords k ON c.id = k.conversation_id\nGROUP BY c.id\nORDER BY c.timestamp DESC\nLIMIT 50\n': no such column: c.timestamp",
     "output_type": "error",
     "traceback": [
      "\u001b[31m---------------------------------------------------------------------------\u001b[39m",
      "\u001b[31mOperationalError\u001b[39m                          Traceback (most recent call last)",
      "\u001b[36mFile \u001b[39m\u001b[32m~/Code/Projects/llm-memorization/.venv/lib/python3.13/site-packages/pandas/io/sql.py:2664\u001b[39m, in \u001b[36mSQLiteDatabase.execute\u001b[39m\u001b[34m(self, sql, params)\u001b[39m\n\u001b[32m   2663\u001b[39m \u001b[38;5;28;01mtry\u001b[39;00m:\n\u001b[32m-> \u001b[39m\u001b[32m2664\u001b[39m     \u001b[43mcur\u001b[49m\u001b[43m.\u001b[49m\u001b[43mexecute\u001b[49m\u001b[43m(\u001b[49m\u001b[43msql\u001b[49m\u001b[43m,\u001b[49m\u001b[43m \u001b[49m\u001b[43m*\u001b[49m\u001b[43margs\u001b[49m\u001b[43m)\u001b[49m\n\u001b[32m   2665\u001b[39m     \u001b[38;5;28;01mreturn\u001b[39;00m cur\n",
      "\u001b[31mOperationalError\u001b[39m: no such column: c.timestamp",
      "\nThe above exception was the direct cause of the following exception:\n",
      "\u001b[31mDatabaseError\u001b[39m                             Traceback (most recent call last)",
      "\u001b[36mCell\u001b[39m\u001b[36m \u001b[39m\u001b[32mIn[14]\u001b[39m\u001b[32m, line 12\u001b[39m\n\u001b[32m      1\u001b[39m \u001b[38;5;28;01mimport\u001b[39;00m\u001b[38;5;250m \u001b[39m\u001b[34;01mpandas\u001b[39;00m\u001b[38;5;250m \u001b[39m\u001b[38;5;28;01mas\u001b[39;00m\u001b[38;5;250m \u001b[39m\u001b[34;01mpd\u001b[39;00m\n\u001b[32m      3\u001b[39m query = \u001b[33m'''\u001b[39m\n\u001b[32m      4\u001b[39m \u001b[33mSELECT c.id, c.timestamp, c.user_input, c.llm_output, GROUP_CONCAT(k.keyword, \u001b[39m\u001b[33m'\u001b[39m\u001b[33m, \u001b[39m\u001b[33m'\u001b[39m\u001b[33m) AS keywords\u001b[39m\n\u001b[32m      5\u001b[39m \u001b[33mFROM conversations c\u001b[39m\n\u001b[32m   (...)\u001b[39m\u001b[32m      9\u001b[39m \u001b[33mLIMIT 50\u001b[39m\n\u001b[32m     10\u001b[39m \u001b[33m'''\u001b[39m\n\u001b[32m---> \u001b[39m\u001b[32m12\u001b[39m df = \u001b[43mpd\u001b[49m\u001b[43m.\u001b[49m\u001b[43mread_sql_query\u001b[49m\u001b[43m(\u001b[49m\u001b[43mquery\u001b[49m\u001b[43m,\u001b[49m\u001b[43m \u001b[49m\u001b[43mconn\u001b[49m\u001b[43m)\u001b[49m\n\u001b[32m     13\u001b[39m df.head(\u001b[32m60\u001b[39m)\n",
      "\u001b[36mFile \u001b[39m\u001b[32m~/Code/Projects/llm-memorization/.venv/lib/python3.13/site-packages/pandas/io/sql.py:528\u001b[39m, in \u001b[36mread_sql_query\u001b[39m\u001b[34m(sql, con, index_col, coerce_float, params, parse_dates, chunksize, dtype, dtype_backend)\u001b[39m\n\u001b[32m    525\u001b[39m \u001b[38;5;28;01massert\u001b[39;00m dtype_backend \u001b[38;5;129;01mis\u001b[39;00m \u001b[38;5;129;01mnot\u001b[39;00m lib.no_default\n\u001b[32m    527\u001b[39m \u001b[38;5;28;01mwith\u001b[39;00m pandasSQL_builder(con) \u001b[38;5;28;01mas\u001b[39;00m pandas_sql:\n\u001b[32m--> \u001b[39m\u001b[32m528\u001b[39m     \u001b[38;5;28;01mreturn\u001b[39;00m \u001b[43mpandas_sql\u001b[49m\u001b[43m.\u001b[49m\u001b[43mread_query\u001b[49m\u001b[43m(\u001b[49m\n\u001b[32m    529\u001b[39m \u001b[43m        \u001b[49m\u001b[43msql\u001b[49m\u001b[43m,\u001b[49m\n\u001b[32m    530\u001b[39m \u001b[43m        \u001b[49m\u001b[43mindex_col\u001b[49m\u001b[43m=\u001b[49m\u001b[43mindex_col\u001b[49m\u001b[43m,\u001b[49m\n\u001b[32m    531\u001b[39m \u001b[43m        \u001b[49m\u001b[43mparams\u001b[49m\u001b[43m=\u001b[49m\u001b[43mparams\u001b[49m\u001b[43m,\u001b[49m\n\u001b[32m    532\u001b[39m \u001b[43m        \u001b[49m\u001b[43mcoerce_float\u001b[49m\u001b[43m=\u001b[49m\u001b[43mcoerce_float\u001b[49m\u001b[43m,\u001b[49m\n\u001b[32m    533\u001b[39m \u001b[43m        \u001b[49m\u001b[43mparse_dates\u001b[49m\u001b[43m=\u001b[49m\u001b[43mparse_dates\u001b[49m\u001b[43m,\u001b[49m\n\u001b[32m    534\u001b[39m \u001b[43m        \u001b[49m\u001b[43mchunksize\u001b[49m\u001b[43m=\u001b[49m\u001b[43mchunksize\u001b[49m\u001b[43m,\u001b[49m\n\u001b[32m    535\u001b[39m \u001b[43m        \u001b[49m\u001b[43mdtype\u001b[49m\u001b[43m=\u001b[49m\u001b[43mdtype\u001b[49m\u001b[43m,\u001b[49m\n\u001b[32m    536\u001b[39m \u001b[43m        \u001b[49m\u001b[43mdtype_backend\u001b[49m\u001b[43m=\u001b[49m\u001b[43mdtype_backend\u001b[49m\u001b[43m,\u001b[49m\n\u001b[32m    537\u001b[39m \u001b[43m    \u001b[49m\u001b[43m)\u001b[49m\n",
      "\u001b[36mFile \u001b[39m\u001b[32m~/Code/Projects/llm-memorization/.venv/lib/python3.13/site-packages/pandas/io/sql.py:2728\u001b[39m, in \u001b[36mSQLiteDatabase.read_query\u001b[39m\u001b[34m(self, sql, index_col, coerce_float, parse_dates, params, chunksize, dtype, dtype_backend)\u001b[39m\n\u001b[32m   2717\u001b[39m \u001b[38;5;28;01mdef\u001b[39;00m\u001b[38;5;250m \u001b[39m\u001b[34mread_query\u001b[39m(\n\u001b[32m   2718\u001b[39m     \u001b[38;5;28mself\u001b[39m,\n\u001b[32m   2719\u001b[39m     sql,\n\u001b[32m   (...)\u001b[39m\u001b[32m   2726\u001b[39m     dtype_backend: DtypeBackend | Literal[\u001b[33m\"\u001b[39m\u001b[33mnumpy\u001b[39m\u001b[33m\"\u001b[39m] = \u001b[33m\"\u001b[39m\u001b[33mnumpy\u001b[39m\u001b[33m\"\u001b[39m,\n\u001b[32m   2727\u001b[39m ) -> DataFrame | Iterator[DataFrame]:\n\u001b[32m-> \u001b[39m\u001b[32m2728\u001b[39m     cursor = \u001b[38;5;28;43mself\u001b[39;49m\u001b[43m.\u001b[49m\u001b[43mexecute\u001b[49m\u001b[43m(\u001b[49m\u001b[43msql\u001b[49m\u001b[43m,\u001b[49m\u001b[43m \u001b[49m\u001b[43mparams\u001b[49m\u001b[43m)\u001b[49m\n\u001b[32m   2729\u001b[39m     columns = [col_desc[\u001b[32m0\u001b[39m] \u001b[38;5;28;01mfor\u001b[39;00m col_desc \u001b[38;5;129;01min\u001b[39;00m cursor.description]\n\u001b[32m   2731\u001b[39m     \u001b[38;5;28;01mif\u001b[39;00m chunksize \u001b[38;5;129;01mis\u001b[39;00m \u001b[38;5;129;01mnot\u001b[39;00m \u001b[38;5;28;01mNone\u001b[39;00m:\n",
      "\u001b[36mFile \u001b[39m\u001b[32m~/Code/Projects/llm-memorization/.venv/lib/python3.13/site-packages/pandas/io/sql.py:2676\u001b[39m, in \u001b[36mSQLiteDatabase.execute\u001b[39m\u001b[34m(self, sql, params)\u001b[39m\n\u001b[32m   2673\u001b[39m     \u001b[38;5;28;01mraise\u001b[39;00m ex \u001b[38;5;28;01mfrom\u001b[39;00m\u001b[38;5;250m \u001b[39m\u001b[34;01minner_exc\u001b[39;00m\n\u001b[32m   2675\u001b[39m ex = DatabaseError(\u001b[33mf\u001b[39m\u001b[33m\"\u001b[39m\u001b[33mExecution failed on sql \u001b[39m\u001b[33m'\u001b[39m\u001b[38;5;132;01m{\u001b[39;00msql\u001b[38;5;132;01m}\u001b[39;00m\u001b[33m'\u001b[39m\u001b[33m: \u001b[39m\u001b[38;5;132;01m{\u001b[39;00mexc\u001b[38;5;132;01m}\u001b[39;00m\u001b[33m\"\u001b[39m)\n\u001b[32m-> \u001b[39m\u001b[32m2676\u001b[39m \u001b[38;5;28;01mraise\u001b[39;00m ex \u001b[38;5;28;01mfrom\u001b[39;00m\u001b[38;5;250m \u001b[39m\u001b[34;01mexc\u001b[39;00m\n",
      "\u001b[31mDatabaseError\u001b[39m: Execution failed on sql '\nSELECT c.id, c.timestamp, c.user_input, c.llm_output, GROUP_CONCAT(k.keyword, ', ') AS keywords\nFROM conversations c\nLEFT JOIN keywords k ON c.id = k.conversation_id\nGROUP BY c.id\nORDER BY c.timestamp DESC\nLIMIT 50\n': no such column: c.timestamp"
     ]
    }
   ],
   "source": [
    "import pandas as pd\n",
    "\n",
    "query = '''\n",
    "SELECT c.id, c.timestamp, c.user_input, c.llm_output, GROUP_CONCAT(k.keyword, ', ') AS keywords\n",
    "FROM conversations c\n",
    "LEFT JOIN keywords k ON c.id = k.conversation_id\n",
    "GROUP BY c.id\n",
    "ORDER BY c.timestamp DESC\n",
    "LIMIT 50\n",
    "'''\n",
    "\n",
    "df = pd.read_sql_query(query, conn)\n",
    "df.head(60)\n"
   ]
  },
  {
   "cell_type": "code",
   "execution_count": null,
   "id": "5868ca0b",
   "metadata": {},
   "outputs": [],
   "source": [
    "# Exemple de requête SQL\n",
    "\n",
    "```sql\n",
    "SELECT c.user_input, c.llm_output, GROUP_CONCAT(k.keyword, ', ') as keywords\n",
    "FROM conversations c\n",
    "LEFT JOIN keywords k ON c.id = k.conversation_id\n",
    "GROUP BY c.id\n",
    "ORDER BY c.timestamp DESC\n",
    "LIMIT 10;"
   ]
  }
 ],
 "metadata": {
  "kernelspec": {
   "display_name": ".venv",
   "language": "python",
   "name": "python3"
  },
  "language_info": {
   "codemirror_mode": {
    "name": "ipython",
    "version": 3
   },
   "file_extension": ".py",
   "mimetype": "text/x-python",
   "name": "python",
   "nbconvert_exporter": "python",
   "pygments_lexer": "ipython3",
   "version": "3.13.4"
  }
 },
 "nbformat": 4,
 "nbformat_minor": 5
}
